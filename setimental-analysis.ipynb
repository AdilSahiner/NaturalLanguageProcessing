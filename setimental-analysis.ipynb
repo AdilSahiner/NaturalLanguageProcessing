{
 "cells": [
  {
   "cell_type": "code",
   "execution_count": 1,
   "metadata": {
    "_cell_guid": "79c7e3d0-c299-4dcb-8224-4455121ee9b0",
    "_uuid": "d629ff2d2480ee46fbb7e2d37f6b5fab8052498a",
    "execution": {
     "iopub.execute_input": "2020-11-06T10:21:13.286138Z",
     "iopub.status.busy": "2020-11-06T10:21:13.285362Z",
     "iopub.status.idle": "2020-11-06T10:21:13.291929Z",
     "shell.execute_reply": "2020-11-06T10:21:13.291215Z"
    },
    "papermill": {
     "duration": 0.051543,
     "end_time": "2020-11-06T10:21:13.292060",
     "exception": false,
     "start_time": "2020-11-06T10:21:13.240517",
     "status": "completed"
    },
    "tags": []
   },
   "outputs": [
    {
     "name": "stdout",
     "output_type": "stream",
     "text": [
      "['pos', 'neg', 'README']\n"
     ]
    }
   ],
   "source": [
    "import numpy as np # linear algebra\n",
    "import pandas as pd # data processing, CSV file I/O (e.g. pd.read_csv)\n",
    "import matplotlib.pyplot as plt\n",
    "\n",
    "import os\n",
    "\n",
    "\n",
    "\n",
    "\n",
    "review_dataset_path=\"./data/movie_reviews\""
   ]
  },
  {
   "cell_type": "markdown",
   "metadata": {
    "papermill": {
     "duration": 0.03556,
     "end_time": "2020-11-06T10:21:13.364905",
     "exception": false,
     "start_time": "2020-11-06T10:21:13.329345",
     "status": "completed"
    },
    "tags": []
   },
   "source": [
    "# loading the dataset"
   ]
  },
  {
   "cell_type": "code",
   "execution_count": 2,
   "metadata": {
    "execution": {
     "iopub.execute_input": "2020-11-06T10:21:13.442801Z",
     "iopub.status.busy": "2020-11-06T10:21:13.441763Z",
     "iopub.status.idle": "2020-11-06T10:21:13.445543Z",
     "shell.execute_reply": "2020-11-06T10:21:13.444930Z"
    },
    "papermill": {
     "duration": 0.044984,
     "end_time": "2020-11-06T10:21:13.445690",
     "exception": false,
     "start_time": "2020-11-06T10:21:13.400706",
     "status": "completed"
    },
    "tags": []
   },
   "outputs": [],
   "source": [
    "#Positive and negative reviews folder paths \n",
    "pos_review_folder_path=review_dataset_path+\"/\"+\"pos\"\n",
    "neg_review_folder_path=review_dataset_path+\"/\"+\"neg\""
   ]
  },
  {
   "cell_type": "code",
   "execution_count": 3,
   "metadata": {
    "execution": {
     "iopub.execute_input": "2020-11-06T10:21:13.526568Z",
     "iopub.status.busy": "2020-11-06T10:21:13.525405Z",
     "iopub.status.idle": "2020-11-06T10:21:13.557546Z",
     "shell.execute_reply": "2020-11-06T10:21:13.556744Z"
    },
    "papermill": {
     "duration": 0.074327,
     "end_time": "2020-11-06T10:21:13.557720",
     "exception": false,
     "start_time": "2020-11-06T10:21:13.483393",
     "status": "completed"
    },
    "tags": []
   },
   "outputs": [],
   "source": [
    "#Positive and negative file names\n",
    "pos_review_file_names=os.listdir(pos_review_folder_path)\n",
    "neg_review_file_names=os.listdir(neg_review_folder_path)"
   ]
  },
  {
   "cell_type": "code",
   "execution_count": 4,
   "metadata": {
    "execution": {
     "iopub.execute_input": "2020-11-06T10:21:13.639156Z",
     "iopub.status.busy": "2020-11-06T10:21:13.638192Z",
     "iopub.status.idle": "2020-11-06T10:21:13.641813Z",
     "shell.execute_reply": "2020-11-06T10:21:13.640984Z"
    },
    "papermill": {
     "duration": 0.047382,
     "end_time": "2020-11-06T10:21:13.641951",
     "exception": false,
     "start_time": "2020-11-06T10:21:13.594569",
     "status": "completed"
    },
    "tags": []
   },
   "outputs": [],
   "source": [
    "def load_text_from_textfile(path):\n",
    "    file=open(path,\"r\")\n",
    "    review=file.read()\n",
    "    file.close()\n",
    "    \n",
    "    return review\n",
    "\n",
    "def load_review_from_textfile(path):\n",
    "    return load_text_from_textfile(path)"
   ]
  },
  {
   "cell_type": "code",
   "execution_count": 5,
   "metadata": {
    "execution": {
     "iopub.execute_input": "2020-11-06T10:21:13.724379Z",
     "iopub.status.busy": "2020-11-06T10:21:13.723546Z",
     "iopub.status.idle": "2020-11-06T10:21:13.726871Z",
     "shell.execute_reply": "2020-11-06T10:21:13.726102Z"
    },
    "papermill": {
     "duration": 0.047507,
     "end_time": "2020-11-06T10:21:13.727014",
     "exception": false,
     "start_time": "2020-11-06T10:21:13.679507",
     "status": "completed"
    },
    "tags": []
   },
   "outputs": [],
   "source": [
    "def get_data_target(folder_path, file_names, review_type):\n",
    "    data=list()\n",
    "    target =list()\n",
    "    for file_name in file_names:\n",
    "        full_path = folder_path + \"/\" + file_name\n",
    "        review =load_review_from_textfile(path=full_path)\n",
    "        data.append(review)\n",
    "        target.append(review_type)\n",
    "    return data, target"
   ]
  },
  {
   "cell_type": "code",
   "execution_count": 6,
   "metadata": {
    "execution": {
     "iopub.execute_input": "2020-11-06T10:21:13.807487Z",
     "iopub.status.busy": "2020-11-06T10:21:13.806647Z",
     "iopub.status.idle": "2020-11-06T10:21:15.488034Z",
     "shell.execute_reply": "2020-11-06T10:21:15.487189Z"
    },
    "papermill": {
     "duration": 1.724273,
     "end_time": "2020-11-06T10:21:15.488189",
     "exception": false,
     "start_time": "2020-11-06T10:21:13.763916",
     "status": "completed"
    },
    "tags": []
   },
   "outputs": [
    {
     "name": "stdout",
     "output_type": "stream",
     "text": [
      "Positive data ve target builded...\n",
      "positive data length: 1000\n",
      "positive target length: 1000\n"
     ]
    }
   ],
   "source": [
    "pos_data, pos_target=get_data_target(folder_path=pos_review_folder_path,\n",
    "               file_names=pos_review_file_names,\n",
    "               review_type=\"positive\")\n",
    "print(\"Positive data ve target builded...\")\n",
    "print(\"positive data length:\",len(pos_data))\n",
    "print(\"positive target length:\",len(pos_target))"
   ]
  },
  {
   "cell_type": "code",
   "execution_count": 7,
   "metadata": {
    "execution": {
     "iopub.execute_input": "2020-11-06T10:21:15.576784Z",
     "iopub.status.busy": "2020-11-06T10:21:15.575870Z",
     "iopub.status.idle": "2020-11-06T10:21:17.220205Z",
     "shell.execute_reply": "2020-11-06T10:21:17.220818Z"
    },
    "papermill": {
     "duration": 1.688434,
     "end_time": "2020-11-06T10:21:17.220999",
     "exception": false,
     "start_time": "2020-11-06T10:21:15.532565",
     "status": "completed"
    },
    "tags": []
   },
   "outputs": [
    {
     "name": "stdout",
     "output_type": "stream",
     "text": [
      "Negative data ve target builded..\n",
      "negative data length : 1000\n",
      "negative target length : 1000\n"
     ]
    }
   ],
   "source": [
    "neg_data, neg_target = get_data_target(folder_path = neg_review_folder_path,\n",
    "                                      file_names= neg_review_file_names,\n",
    "                                      review_type=\"negative\")\n",
    "print(\"Negative data ve target builded..\")\n",
    "print(\"negative data length :\",len(neg_data))\n",
    "print(\"negative target length :\",len(neg_target))"
   ]
  },
  {
   "cell_type": "code",
   "execution_count": 8,
   "metadata": {
    "execution": {
     "iopub.execute_input": "2020-11-06T10:21:17.305292Z",
     "iopub.status.busy": "2020-11-06T10:21:17.304467Z",
     "iopub.status.idle": "2020-11-06T10:21:17.309160Z",
     "shell.execute_reply": "2020-11-06T10:21:17.308050Z"
    },
    "papermill": {
     "duration": 0.049634,
     "end_time": "2020-11-06T10:21:17.309308",
     "exception": false,
     "start_time": "2020-11-06T10:21:17.259674",
     "status": "completed"
    },
    "tags": []
   },
   "outputs": [
    {
     "name": "stdout",
     "output_type": "stream",
     "text": [
      "Positive and Negative sets concatenated\n",
      "data length : 2000\n",
      "target length : 2000\n"
     ]
    }
   ],
   "source": [
    "data = pos_data + neg_data\n",
    "target_ = pos_target + neg_target\n",
    "print(\"Positive and Negative sets concatenated\")\n",
    "print(\"data length :\",len(data))\n",
    "print(\"target length :\",len(target_))"
   ]
  },
  {
   "cell_type": "code",
   "execution_count": 9,
   "metadata": {
    "execution": {
     "iopub.execute_input": "2020-11-06T10:21:17.392699Z",
     "iopub.status.busy": "2020-11-06T10:21:17.391875Z",
     "iopub.status.idle": "2020-11-06T10:21:17.401954Z",
     "shell.execute_reply": "2020-11-06T10:21:17.401335Z"
    },
    "papermill": {
     "duration": 0.053187,
     "end_time": "2020-11-06T10:21:17.402094",
     "exception": false,
     "start_time": "2020-11-06T10:21:17.348907",
     "status": "completed"
    },
    "tags": []
   },
   "outputs": [],
   "source": [
    "data1=pd.DataFrame(data)\n"
   ]
  },
  {
   "cell_type": "code",
   "execution_count": 10,
   "metadata": {
    "execution": {
     "iopub.execute_input": "2020-11-06T10:21:17.486121Z",
     "iopub.status.busy": "2020-11-06T10:21:17.485360Z",
     "iopub.status.idle": "2020-11-06T10:21:18.475210Z",
     "shell.execute_reply": "2020-11-06T10:21:18.474556Z"
    },
    "papermill": {
     "duration": 1.034227,
     "end_time": "2020-11-06T10:21:18.475354",
     "exception": false,
     "start_time": "2020-11-06T10:21:17.441127",
     "status": "completed"
    },
    "tags": []
   },
   "outputs": [],
   "source": [
    "from sklearn.preprocessing import LabelEncoder\n",
    "le = LabelEncoder()\n",
    "le.fit(target_)\n",
    "target = le.transform(target_)"
   ]
  },
  {
   "cell_type": "code",
   "execution_count": 11,
   "metadata": {
    "execution": {
     "iopub.execute_input": "2020-11-06T10:21:18.562481Z",
     "iopub.status.busy": "2020-11-06T10:21:18.561450Z",
     "iopub.status.idle": "2020-11-06T10:21:18.565190Z",
     "shell.execute_reply": "2020-11-06T10:21:18.564533Z"
    },
    "papermill": {
     "duration": 0.049881,
     "end_time": "2020-11-06T10:21:18.565318",
     "exception": false,
     "start_time": "2020-11-06T10:21:18.515437",
     "status": "completed"
    },
    "tags": []
   },
   "outputs": [],
   "source": [
    "data2=pd.DataFrame(target)"
   ]
  },
  {
   "cell_type": "code",
   "execution_count": 12,
   "metadata": {
    "execution": {
     "iopub.execute_input": "2020-11-06T10:21:18.658135Z",
     "iopub.status.busy": "2020-11-06T10:21:18.656999Z",
     "iopub.status.idle": "2020-11-06T10:21:18.660650Z",
     "shell.execute_reply": "2020-11-06T10:21:18.659841Z"
    },
    "papermill": {
     "duration": 0.054616,
     "end_time": "2020-11-06T10:21:18.660816",
     "exception": false,
     "start_time": "2020-11-06T10:21:18.606200",
     "status": "completed"
    },
    "tags": []
   },
   "outputs": [],
   "source": [
    "#det = pd.concat([location, food], join = 'outer', axis = 1)"
   ]
  },
  {
   "cell_type": "code",
   "execution_count": 13,
   "metadata": {
    "execution": {
     "iopub.execute_input": "2020-11-06T10:21:18.748298Z",
     "iopub.status.busy": "2020-11-06T10:21:18.747200Z",
     "iopub.status.idle": "2020-11-06T10:21:18.750961Z",
     "shell.execute_reply": "2020-11-06T10:21:18.750066Z"
    },
    "papermill": {
     "duration": 0.050052,
     "end_time": "2020-11-06T10:21:18.751098",
     "exception": false,
     "start_time": "2020-11-06T10:21:18.701046",
     "status": "completed"
    },
    "tags": []
   },
   "outputs": [],
   "source": [
    "new_data=pd.concat([data1,data2],join='outer',axis=1)"
   ]
  },
  {
   "cell_type": "code",
   "execution_count": 14,
   "metadata": {
    "execution": {
     "iopub.execute_input": "2020-11-06T10:21:18.848205Z",
     "iopub.status.busy": "2020-11-06T10:21:18.847381Z",
     "iopub.status.idle": "2020-11-06T10:21:18.855993Z",
     "shell.execute_reply": "2020-11-06T10:21:18.856552Z"
    },
    "papermill": {
     "duration": 0.06371,
     "end_time": "2020-11-06T10:21:18.856764",
     "exception": false,
     "start_time": "2020-11-06T10:21:18.793054",
     "status": "completed"
    },
    "tags": []
   },
   "outputs": [
    {
     "data": {
      "text/html": [
       "<div>\n",
       "<style scoped>\n",
       "    .dataframe tbody tr th:only-of-type {\n",
       "        vertical-align: middle;\n",
       "    }\n",
       "\n",
       "    .dataframe tbody tr th {\n",
       "        vertical-align: top;\n",
       "    }\n",
       "\n",
       "    .dataframe thead th {\n",
       "        text-align: right;\n",
       "    }\n",
       "</style>\n",
       "<table border=\"1\" class=\"dataframe\">\n",
       "  <thead>\n",
       "    <tr style=\"text-align: right;\">\n",
       "      <th></th>\n",
       "      <th>0</th>\n",
       "      <th>0</th>\n",
       "    </tr>\n",
       "  </thead>\n",
       "  <tbody>\n",
       "    <tr>\n",
       "      <th>0</th>\n",
       "      <td>magnolia left me relling from the theatre , st...</td>\n",
       "      <td>1</td>\n",
       "    </tr>\n",
       "    <tr>\n",
       "      <th>1</th>\n",
       "      <td>let's face it : the $100 million-plus smash th...</td>\n",
       "      <td>1</td>\n",
       "    </tr>\n",
       "    <tr>\n",
       "      <th>2</th>\n",
       "      <td>`oh behave ! \\nfelicity shagwell is one shagad...</td>\n",
       "      <td>1</td>\n",
       "    </tr>\n",
       "    <tr>\n",
       "      <th>3</th>\n",
       "      <td>kevin smith is like a big kid . \\nhis humor is...</td>\n",
       "      <td>1</td>\n",
       "    </tr>\n",
       "    <tr>\n",
       "      <th>4</th>\n",
       "      <td>the trailers and the beginning of the move sum...</td>\n",
       "      <td>1</td>\n",
       "    </tr>\n",
       "  </tbody>\n",
       "</table>\n",
       "</div>"
      ],
      "text/plain": [
       "                                                   0  0\n",
       "0  magnolia left me relling from the theatre , st...  1\n",
       "1  let's face it : the $100 million-plus smash th...  1\n",
       "2  `oh behave ! \\nfelicity shagwell is one shagad...  1\n",
       "3  kevin smith is like a big kid . \\nhis humor is...  1\n",
       "4  the trailers and the beginning of the move sum...  1"
      ]
     },
     "execution_count": 14,
     "metadata": {},
     "output_type": "execute_result"
    }
   ],
   "source": [
    "new_data.head()"
   ]
  },
  {
   "cell_type": "code",
   "execution_count": 15,
   "metadata": {
    "execution": {
     "iopub.execute_input": "2020-11-06T10:21:18.943294Z",
     "iopub.status.busy": "2020-11-06T10:21:18.942370Z",
     "iopub.status.idle": "2020-11-06T10:21:18.945780Z",
     "shell.execute_reply": "2020-11-06T10:21:18.945022Z"
    },
    "papermill": {
     "duration": 0.04867,
     "end_time": "2020-11-06T10:21:18.945906",
     "exception": false,
     "start_time": "2020-11-06T10:21:18.897236",
     "status": "completed"
    },
    "tags": []
   },
   "outputs": [],
   "source": [
    "#df.rename(columns={\"A\": \"a\", \"B\": \"c\"})"
   ]
  },
  {
   "cell_type": "code",
   "execution_count": 16,
   "metadata": {
    "execution": {
     "iopub.execute_input": "2020-11-06T10:21:19.038445Z",
     "iopub.status.busy": "2020-11-06T10:21:19.037527Z",
     "iopub.status.idle": "2020-11-06T10:21:19.041896Z",
     "shell.execute_reply": "2020-11-06T10:21:19.042638Z"
    },
    "papermill": {
     "duration": 0.054159,
     "end_time": "2020-11-06T10:21:19.042796",
     "exception": false,
     "start_time": "2020-11-06T10:21:18.988637",
     "status": "completed"
    },
    "tags": []
   },
   "outputs": [
    {
     "data": {
      "text/plain": [
       "Int64Index([0, 0], dtype='int64')"
      ]
     },
     "execution_count": 16,
     "metadata": {},
     "output_type": "execute_result"
    }
   ],
   "source": [
    "new_data.columns"
   ]
  },
  {
   "cell_type": "code",
   "execution_count": 17,
   "metadata": {
    "execution": {
     "iopub.execute_input": "2020-11-06T10:21:19.132986Z",
     "iopub.status.busy": "2020-11-06T10:21:19.132080Z",
     "iopub.status.idle": "2020-11-06T10:21:19.135996Z",
     "shell.execute_reply": "2020-11-06T10:21:19.135199Z"
    },
    "papermill": {
     "duration": 0.050997,
     "end_time": "2020-11-06T10:21:19.136127",
     "exception": false,
     "start_time": "2020-11-06T10:21:19.085130",
     "status": "completed"
    },
    "tags": []
   },
   "outputs": [],
   "source": [
    "new_data.columns=['reviews','setiment']"
   ]
  },
  {
   "cell_type": "code",
   "execution_count": 18,
   "metadata": {
    "execution": {
     "iopub.execute_input": "2020-11-06T10:21:19.227091Z",
     "iopub.status.busy": "2020-11-06T10:21:19.226170Z",
     "iopub.status.idle": "2020-11-06T10:21:19.230275Z",
     "shell.execute_reply": "2020-11-06T10:21:19.229617Z"
    },
    "papermill": {
     "duration": 0.051646,
     "end_time": "2020-11-06T10:21:19.230398",
     "exception": false,
     "start_time": "2020-11-06T10:21:19.178752",
     "status": "completed"
    },
    "tags": []
   },
   "outputs": [
    {
     "name": "stdout",
     "output_type": "stream",
     "text": [
      "['negative' 'negative' 'negative' 'positive' 'positive' 'positive']\n"
     ]
    }
   ],
   "source": [
    "print(le.inverse_transform([0,0,0,1,1,1]))"
   ]
  },
  {
   "cell_type": "code",
   "execution_count": 19,
   "metadata": {
    "execution": {
     "iopub.execute_input": "2020-11-06T10:21:19.331279Z",
     "iopub.status.busy": "2020-11-06T10:21:19.330399Z",
     "iopub.status.idle": "2020-11-06T10:21:19.338116Z",
     "shell.execute_reply": "2020-11-06T10:21:19.338860Z"
    },
    "papermill": {
     "duration": 0.06504,
     "end_time": "2020-11-06T10:21:19.339034",
     "exception": false,
     "start_time": "2020-11-06T10:21:19.273994",
     "status": "completed"
    },
    "tags": []
   },
   "outputs": [
    {
     "data": {
      "text/html": [
       "<div>\n",
       "<style scoped>\n",
       "    .dataframe tbody tr th:only-of-type {\n",
       "        vertical-align: middle;\n",
       "    }\n",
       "\n",
       "    .dataframe tbody tr th {\n",
       "        vertical-align: top;\n",
       "    }\n",
       "\n",
       "    .dataframe thead th {\n",
       "        text-align: right;\n",
       "    }\n",
       "</style>\n",
       "<table border=\"1\" class=\"dataframe\">\n",
       "  <thead>\n",
       "    <tr style=\"text-align: right;\">\n",
       "      <th></th>\n",
       "      <th>reviews</th>\n",
       "      <th>setiment</th>\n",
       "    </tr>\n",
       "  </thead>\n",
       "  <tbody>\n",
       "    <tr>\n",
       "      <th>0</th>\n",
       "      <td>magnolia left me relling from the theatre , st...</td>\n",
       "      <td>1</td>\n",
       "    </tr>\n",
       "    <tr>\n",
       "      <th>1</th>\n",
       "      <td>let's face it : the $100 million-plus smash th...</td>\n",
       "      <td>1</td>\n",
       "    </tr>\n",
       "    <tr>\n",
       "      <th>2</th>\n",
       "      <td>`oh behave ! \\nfelicity shagwell is one shagad...</td>\n",
       "      <td>1</td>\n",
       "    </tr>\n",
       "    <tr>\n",
       "      <th>3</th>\n",
       "      <td>kevin smith is like a big kid . \\nhis humor is...</td>\n",
       "      <td>1</td>\n",
       "    </tr>\n",
       "    <tr>\n",
       "      <th>4</th>\n",
       "      <td>the trailers and the beginning of the move sum...</td>\n",
       "      <td>1</td>\n",
       "    </tr>\n",
       "  </tbody>\n",
       "</table>\n",
       "</div>"
      ],
      "text/plain": [
       "                                             reviews  setiment\n",
       "0  magnolia left me relling from the theatre , st...         1\n",
       "1  let's face it : the $100 million-plus smash th...         1\n",
       "2  `oh behave ! \\nfelicity shagwell is one shagad...         1\n",
       "3  kevin smith is like a big kid . \\nhis humor is...         1\n",
       "4  the trailers and the beginning of the move sum...         1"
      ]
     },
     "execution_count": 19,
     "metadata": {},
     "output_type": "execute_result"
    }
   ],
   "source": [
    "new_data.head()"
   ]
  },
  {
   "cell_type": "markdown",
   "metadata": {
    "papermill": {
     "duration": 0.042202,
     "end_time": "2020-11-06T10:21:19.423847",
     "exception": false,
     "start_time": "2020-11-06T10:21:19.381645",
     "status": "completed"
    },
    "tags": []
   },
   "source": [
    "\"positive\"=1 ,\"negative\"=0"
   ]
  },
  {
   "cell_type": "code",
   "execution_count": 20,
   "metadata": {
    "execution": {
     "iopub.execute_input": "2020-11-06T10:21:19.516473Z",
     "iopub.status.busy": "2020-11-06T10:21:19.515609Z",
     "iopub.status.idle": "2020-11-06T10:21:19.519976Z",
     "shell.execute_reply": "2020-11-06T10:21:19.519236Z"
    },
    "papermill": {
     "duration": 0.053724,
     "end_time": "2020-11-06T10:21:19.520106",
     "exception": false,
     "start_time": "2020-11-06T10:21:19.466382",
     "status": "completed"
    },
    "tags": []
   },
   "outputs": [
    {
     "data": {
      "text/plain": [
       "'let\\'s face it : the $100 million-plus smash that was \" goldeneye \" was not a good film by any means , and as a bond movie was only marginally better than , say , \" a view to a kill \" or either of the timothy dalton pictures , by virtue of nice pacing . \\nbut it did revive the series , and granted the producers some new directions in which to take the it ( ie . \\nthe new \" m \" is a woman ) . \\n \" tomorrow never dies \" is the picture \" goldeneye \" should have been ; it\\'s also the most entertaining bond outing since \" the spy who loved me \" . \\nthe new picture opens with china considering war with britain after a standard military operation is misconstrued as a hostile threat from an english submarine . \\nas an attack occurs , the front-page headline is already being prepared , courtesy of carver media . \\ncarver ( pryce ) the man is a deluded magnate , a sort of hybrid of ted turner , bill gates , and peter sellars\\' german scientist from \" dr . \\nstrangelove \" ( physically , pryce even recalls sellars in his kubrick days ) . \\nit\\'s up to james bond to take him down , with assistance , of course , from a wealth of gadgets ( including a multi-purpose cell phone ) , and beautiful women . \\nenter michelle yeoh , fresh from \" supercop \" , as a chinese secret agent with her own agenda ; with effortless grace , she cat burgles , dispatches baddies seemingly with the ease of preparing pasta , and refuses the advances of our philandering hero . \\nthey make a great team . \\n \" tomorrow never dies \" is a surprisingly entertaining and efficient film , given that at the helm is none other than the director of \" turner & hooch \" . \\nspottiswoode has crafted some breathtaking set pieces , each much more intricate and impressive than , for instance , the tank scene in \" goldeneye \" . \\nmoreover , brosnan has at last settled into the role some feel he was born to play ; last time out , the fate of the franchise rested on his shoulders , and there was noticeable discomfort in his body language . \\nreturned in brosnan\\'s eyes has some of the playfulness he demonstrated for so many years on tv\\'s \" remington steele \" , as has his deadpan wit . \\nand though carver\\'s motives are muddy ( when carver explains that \" genius is insanity with some success \" , screenwriter fierstein is taking a lazy shortcut ) , pryce makes an agreeable , memorable villain . \\nin the future , they should pursue actors as talented and experienced as pryce to breathe life into these cardboard figures . \\nthere a few too many explosions in \" tomorrow never dies \" , perhaps so many they qualify as dialogue . \\nand it could have used a sharper script , though i was amused by the double entendres , none of which i will reveal here . \\nas it stands , the plot suffers many holes ( i\\'m not taking about implausibilities ) , and the dialogue tends towards the hackneyed . \\nnow that the elements are in place : modern special effects and stunt work , cool pierce brosnan , kickass female allies . . . \\nit\\'s time to put them to use in something truly special . \\nthere\\'s no mistaking , however , that \" tomorrow never dies \" is ideal holiday escapism , and for the first time in perhaps years , you\\'ll walk out wanting more bond movies . \\n-reviewed december 17 , 1997 \\n'"
      ]
     },
     "execution_count": 20,
     "metadata": {},
     "output_type": "execute_result"
    }
   ],
   "source": [
    "new_data['reviews'][1]"
   ]
  },
  {
   "cell_type": "code",
   "execution_count": 21,
   "metadata": {
    "execution": {
     "iopub.execute_input": "2020-11-06T10:21:19.617630Z",
     "iopub.status.busy": "2020-11-06T10:21:19.616647Z",
     "iopub.status.idle": "2020-11-06T10:21:19.620312Z",
     "shell.execute_reply": "2020-11-06T10:21:19.621116Z"
    },
    "papermill": {
     "duration": 0.055648,
     "end_time": "2020-11-06T10:21:19.621324",
     "exception": false,
     "start_time": "2020-11-06T10:21:19.565676",
     "status": "completed"
    },
    "tags": []
   },
   "outputs": [
    {
     "name": "stdout",
     "output_type": "stream",
     "text": [
      "1    1000\n",
      "0    1000\n",
      "Name: setiment, dtype: int64\n"
     ]
    }
   ],
   "source": [
    "print(new_data.setiment.value_counts())"
   ]
  },
  {
   "cell_type": "markdown",
   "metadata": {
    "papermill": {
     "duration": 0.044009,
     "end_time": "2020-11-06T10:21:19.710096",
     "exception": false,
     "start_time": "2020-11-06T10:21:19.666087",
     "status": "completed"
    },
    "tags": []
   },
   "source": [
    "# Data preprocessing"
   ]
  },
  {
   "cell_type": "code",
   "execution_count": 22,
   "metadata": {
    "execution": {
     "iopub.execute_input": "2020-11-06T10:21:19.815667Z",
     "iopub.status.busy": "2020-11-06T10:21:19.814852Z",
     "iopub.status.idle": "2020-11-06T10:21:19.820305Z",
     "shell.execute_reply": "2020-11-06T10:21:19.819561Z"
    },
    "papermill": {
     "duration": 0.064301,
     "end_time": "2020-11-06T10:21:19.820444",
     "exception": false,
     "start_time": "2020-11-06T10:21:19.756143",
     "status": "completed"
    },
    "tags": []
   },
   "outputs": [
    {
     "data": {
      "text/plain": [
       "'sh felt by all as they contemplate their lives . \\n'"
      ]
     },
     "execution_count": 22,
     "metadata": {},
     "output_type": "execute_result"
    }
   ],
   "source": [
    "new_data.loc[0,'reviews'][-50:]"
   ]
  },
  {
   "cell_type": "markdown",
   "metadata": {
    "papermill": {
     "duration": 0.044243,
     "end_time": "2020-11-06T10:21:19.909922",
     "exception": false,
     "start_time": "2020-11-06T10:21:19.865679",
     "status": "completed"
    },
    "tags": []
   },
   "source": [
    "the below code is for the removal of html codes and emojis from the text document "
   ]
  },
  {
   "cell_type": "code",
   "execution_count": 23,
   "metadata": {
    "execution": {
     "iopub.execute_input": "2020-11-06T10:21:20.020912Z",
     "iopub.status.busy": "2020-11-06T10:21:20.019916Z",
     "iopub.status.idle": "2020-11-06T10:21:20.024571Z",
     "shell.execute_reply": "2020-11-06T10:21:20.023942Z"
    },
    "papermill": {
     "duration": 0.0692,
     "end_time": "2020-11-06T10:21:20.024720",
     "exception": false,
     "start_time": "2020-11-06T10:21:19.955520",
     "status": "completed"
    },
    "tags": []
   },
   "outputs": [
    {
     "data": {
      "text/plain": [
       "'this is a test :) :('"
      ]
     },
     "execution_count": 23,
     "metadata": {},
     "output_type": "execute_result"
    }
   ],
   "source": [
    "import re\n",
    "def preprocessor(text):\n",
    "    text =re.sub('<[^>]*>', '', text)\n",
    "    emoticons = re.findall('(?::|;|=)(?:-)?(?:\\)|\\(|D|P)', text)\n",
    "    text = re.sub('[\\W]+', ' ', text.lower()) + ' '.join(emoticons).replace('-', '')\n",
    "    return text\n",
    "preprocessor('This is a :) test :-( !')\n"
   ]
  },
  {
   "cell_type": "markdown",
   "metadata": {
    "papermill": {
     "duration": 0.047587,
     "end_time": "2020-11-06T10:21:20.123124",
     "exception": false,
     "start_time": "2020-11-06T10:21:20.075537",
     "status": "completed"
    },
    "tags": []
   },
   "source": [
    "IN this dataset we have to remove /n and / charecters from the text for processing"
   ]
  },
  {
   "cell_type": "code",
   "execution_count": 24,
   "metadata": {
    "execution": {
     "iopub.execute_input": "2020-11-06T10:21:20.222561Z",
     "iopub.status.busy": "2020-11-06T10:21:20.221601Z",
     "iopub.status.idle": "2020-11-06T10:21:20.223990Z",
     "shell.execute_reply": "2020-11-06T10:21:20.224579Z"
    },
    "papermill": {
     "duration": 0.055489,
     "end_time": "2020-11-06T10:21:20.224757",
     "exception": false,
     "start_time": "2020-11-06T10:21:20.169268",
     "status": "completed"
    },
    "tags": []
   },
   "outputs": [],
   "source": [
    "def replacer(text):\n",
    "    text=text.replace('\\n','')\n",
    "    text=text.replace('(\\)','')\n",
    "    text=text.lower()\n",
    "    text=text.replace('-',' ')\n",
    "    text=text.replace('\\ ' ,'')\n",
    "    return text\n",
    "    "
   ]
  },
  {
   "cell_type": "code",
   "execution_count": 25,
   "metadata": {
    "execution": {
     "iopub.execute_input": "2020-11-06T10:21:20.326224Z",
     "iopub.status.busy": "2020-11-06T10:21:20.324457Z",
     "iopub.status.idle": "2020-11-06T10:21:20.330158Z",
     "shell.execute_reply": "2020-11-06T10:21:20.329527Z"
    },
    "papermill": {
     "duration": 0.057327,
     "end_time": "2020-11-06T10:21:20.330288",
     "exception": false,
     "start_time": "2020-11-06T10:21:20.272961",
     "status": "completed"
    },
    "tags": []
   },
   "outputs": [
    {
     "data": {
      "text/plain": [
       "\"`oh behave ! \\nfelicity shagwell is one shagadellic babe . \\ndo i make your horny ? \\nfemale fembots with breasts that require gun controlling . \\nanything that resembles bananas and two balls of icecream . \\nthe nut-biting finale between mini me and austin . \\nall that body hair is a real turn on , it's a pity more leading men don't wear it on screen . \\nanything that vaguely resembles sausages and eggs . \\nfat bastard . \\nthe love scene between felicity and fat bastard , that redefines sex . \\nthe wrongly implied love scene in the tent that redefines anal sex . \\nthe love scene between austin and ivana humpalot , that redefines chess and oral sex . \\nthe love scene between dr . evil and frau farbissina , that redefines weird sex . \\nthe love affair between austin and felicity , that does not happen , because his mojo goes missing . \\nthe relationship between dr evil , himself and mini me which redefines a solo love affair . \\nthe unique relationship between dr evil and his son scott www . com . zip , that says a lot about our relationship with our children nowadays . \\nweanies , johnny , richard , dick etc . ' \\nthis movie is every bit as silly and crazy as the first . \\nthere are moments that will make your sick , which are probably best forgotten , but overall mike myers has redefined what it means to be an international spy and leading man . \\n\""
      ]
     },
     "execution_count": 25,
     "metadata": {},
     "output_type": "execute_result"
    }
   ],
   "source": [
    "new_data['reviews'][2]"
   ]
  },
  {
   "cell_type": "code",
   "execution_count": 26,
   "metadata": {
    "execution": {
     "iopub.execute_input": "2020-11-06T10:21:20.429571Z",
     "iopub.status.busy": "2020-11-06T10:21:20.428715Z",
     "iopub.status.idle": "2020-11-06T10:21:20.433889Z",
     "shell.execute_reply": "2020-11-06T10:21:20.433137Z"
    },
    "papermill": {
     "duration": 0.057162,
     "end_time": "2020-11-06T10:21:20.434013",
     "exception": false,
     "start_time": "2020-11-06T10:21:20.376851",
     "status": "completed"
    },
    "tags": []
   },
   "outputs": [
    {
     "data": {
      "text/plain": [
       "\"`oh behave ! felicity shagwell is one shagadellic babe . do i make your horny ? female fembots with breasts that require gun controlling . anything that resembles bananas and two balls of icecream . the nut biting finale between mini me and austin . all that body hair is a real turn on , it's a pity more leading men don't wear it on screen . anything that vaguely resembles sausages and eggs . fat bastard . the love scene between felicity and fat bastard , that redefines sex . the wrongly implied love scene in the tent that redefines anal sex . the love scene between austin and ivana humpalot , that redefines chess and oral sex . the love scene between dr . evil and frau farbissina , that redefines weird sex . the love affair between austin and felicity , that does not happen , because his mojo goes missing . the relationship between dr evil , himself and mini me which redefines a solo love affair . the unique relationship between dr evil and his son scott www . com . zip , that says a lot about our relationship with our children nowadays . weanies , johnny , richard , dick etc . ' this movie is every bit as silly and crazy as the first . there are moments that will make your sick , which are probably best forgotten , but overall mike myers has redefined what it means to be an international spy and leading man . \""
      ]
     },
     "execution_count": 26,
     "metadata": {},
     "output_type": "execute_result"
    }
   ],
   "source": [
    "replacer(new_data['reviews'][2])"
   ]
  },
  {
   "cell_type": "code",
   "execution_count": 27,
   "metadata": {
    "execution": {
     "iopub.execute_input": "2020-11-06T10:21:20.536913Z",
     "iopub.status.busy": "2020-11-06T10:21:20.535819Z",
     "iopub.status.idle": "2020-11-06T10:21:20.539408Z",
     "shell.execute_reply": "2020-11-06T10:21:20.540012Z"
    },
    "papermill": {
     "duration": 0.057507,
     "end_time": "2020-11-06T10:21:20.540178",
     "exception": false,
     "start_time": "2020-11-06T10:21:20.482671",
     "status": "completed"
    },
    "tags": []
   },
   "outputs": [
    {
     "data": {
      "text/plain": [
       "' oh behave felicity shagwell is one shagadellic babe do i make your horny female fembots with breasts that require gun controlling anything that resembles bananas and two balls of icecream the nut biting finale between mini me and austin all that body hair is a real turn on it s a pity more leading men don t wear it on screen anything that vaguely resembles sausages and eggs fat bastard the love scene between felicity and fat bastard that redefines sex the wrongly implied love scene in the tent that redefines anal sex the love scene between austin and ivana humpalot that redefines chess and oral sex the love scene between dr evil and frau farbissina that redefines weird sex the love affair between austin and felicity that does not happen because his mojo goes missing the relationship between dr evil himself and mini me which redefines a solo love affair the unique relationship between dr evil and his son scott www com zip that says a lot about our relationship with our children nowadays weanies johnny richard dick etc this movie is every bit as silly and crazy as the first there are moments that will make your sick which are probably best forgotten but overall mike myers has redefined what it means to be an international spy and leading man '"
      ]
     },
     "execution_count": 27,
     "metadata": {},
     "output_type": "execute_result"
    }
   ],
   "source": [
    "preprocessor (new_data['reviews'][2])"
   ]
  },
  {
   "cell_type": "code",
   "execution_count": 28,
   "metadata": {
    "execution": {
     "iopub.execute_input": "2020-11-06T10:21:20.653083Z",
     "iopub.status.busy": "2020-11-06T10:21:20.642365Z",
     "iopub.status.idle": "2020-11-06T10:21:21.946969Z",
     "shell.execute_reply": "2020-11-06T10:21:21.946311Z"
    },
    "papermill": {
     "duration": 1.358772,
     "end_time": "2020-11-06T10:21:21.947119",
     "exception": false,
     "start_time": "2020-11-06T10:21:20.588347",
     "status": "completed"
    },
    "tags": []
   },
   "outputs": [],
   "source": [
    "new_data['reviews']=new_data['reviews'].apply(preprocessor)"
   ]
  },
  {
   "cell_type": "markdown",
   "metadata": {
    "papermill": {
     "duration": 0.047312,
     "end_time": "2020-11-06T10:21:22.042698",
     "exception": false,
     "start_time": "2020-11-06T10:21:21.995386",
     "status": "completed"
    },
    "tags": []
   },
   "source": [
    "# Tokanisation"
   ]
  },
  {
   "cell_type": "code",
   "execution_count": 29,
   "metadata": {
    "execution": {
     "iopub.execute_input": "2020-11-06T10:21:22.242139Z",
     "iopub.status.busy": "2020-11-06T10:21:22.241330Z",
     "iopub.status.idle": "2020-11-06T10:21:23.077289Z",
     "shell.execute_reply": "2020-11-06T10:21:23.075871Z"
    },
    "papermill": {
     "duration": 0.889083,
     "end_time": "2020-11-06T10:21:23.077432",
     "exception": false,
     "start_time": "2020-11-06T10:21:22.188349",
     "status": "completed"
    },
    "tags": []
   },
   "outputs": [],
   "source": [
    "from nltk.stem.porter import PorterStemmer\n",
    "from sklearn.feature_extraction.text import CountVectorizer\n",
    "import numpy as np\n",
    "porter=PorterStemmer()"
   ]
  },
  {
   "cell_type": "code",
   "execution_count": 30,
   "metadata": {
    "execution": {
     "iopub.execute_input": "2020-11-06T10:21:23.191421Z",
     "iopub.status.busy": "2020-11-06T10:21:23.189873Z",
     "iopub.status.idle": "2020-11-06T10:21:23.196380Z",
     "shell.execute_reply": "2020-11-06T10:21:23.195678Z"
    },
    "papermill": {
     "duration": 0.069575,
     "end_time": "2020-11-06T10:21:23.196513",
     "exception": false,
     "start_time": "2020-11-06T10:21:23.126938",
     "status": "completed"
    },
    "tags": []
   },
   "outputs": [
    {
     "data": {
      "text/plain": [
       "['runners', 'like', 'running', 'thus', 'they', 'run']"
      ]
     },
     "execution_count": 30,
     "metadata": {},
     "output_type": "execute_result"
    }
   ],
   "source": [
    "def tokenizer(text):\n",
    "    return text.split()\n",
    "tokenizer('runners like running thus they run')"
   ]
  },
  {
   "cell_type": "code",
   "execution_count": 31,
   "metadata": {
    "execution": {
     "iopub.execute_input": "2020-11-06T10:21:23.301829Z",
     "iopub.status.busy": "2020-11-06T10:21:23.300714Z",
     "iopub.status.idle": "2020-11-06T10:21:23.306741Z",
     "shell.execute_reply": "2020-11-06T10:21:23.305935Z"
    },
    "papermill": {
     "duration": 0.06156,
     "end_time": "2020-11-06T10:21:23.306875",
     "exception": false,
     "start_time": "2020-11-06T10:21:23.245315",
     "status": "completed"
    },
    "tags": []
   },
   "outputs": [
    {
     "data": {
      "text/plain": [
       "['runner', 'like', 'run', 'thu', 'they', 'run']"
      ]
     },
     "execution_count": 31,
     "metadata": {},
     "output_type": "execute_result"
    }
   ],
   "source": [
    "def tokenizer_stemmer(text):\n",
    "    return[porter.stem(word) for word in text.split()]\n",
    "tokenizer_stemmer(\"runners like running thus they run\")"
   ]
  },
  {
   "cell_type": "markdown",
   "metadata": {
    "papermill": {
     "duration": 0.047943,
     "end_time": "2020-11-06T10:21:23.408802",
     "exception": false,
     "start_time": "2020-11-06T10:21:23.360859",
     "status": "completed"
    },
    "tags": []
   },
   "source": [
    "stopword\n",
    "\n",
    "commomn words that always occur in a sentance like \"is\" \"a\" \"and\""
   ]
  },
  {
   "cell_type": "code",
   "execution_count": 32,
   "metadata": {
    "execution": {
     "iopub.execute_input": "2020-11-06T10:21:23.512621Z",
     "iopub.status.busy": "2020-11-06T10:21:23.511879Z",
     "iopub.status.idle": "2020-11-06T10:21:23.523694Z",
     "shell.execute_reply": "2020-11-06T10:21:23.522954Z"
    },
    "papermill": {
     "duration": 0.066683,
     "end_time": "2020-11-06T10:21:23.523822",
     "exception": false,
     "start_time": "2020-11-06T10:21:23.457139",
     "status": "completed"
    },
    "tags": []
   },
   "outputs": [
    {
     "data": {
      "text/plain": [
       "['ship', 'lion', 'sleep', 'sleep', 'sleep']"
      ]
     },
     "execution_count": 32,
     "metadata": {},
     "output_type": "execute_result"
    }
   ],
   "source": [
    "import nltk\n",
    "from nltk.corpus import stopwords\n",
    "\n",
    "stop_w=stopwords.words(\"english\")\n",
    "[w for w in tokenizer_stemmer('ship and lion in is and sleep sleeps with sleeping')[-11:]if w not in stop_w]"
   ]
  },
  {
   "cell_type": "code",
   "execution_count": null,
   "metadata": {
    "papermill": {
     "duration": 0.052825,
     "end_time": "2020-11-06T10:21:23.625872",
     "exception": false,
     "start_time": "2020-11-06T10:21:23.573047",
     "status": "completed"
    },
    "tags": []
   },
   "outputs": [],
   "source": []
  },
  {
   "cell_type": "markdown",
   "metadata": {
    "papermill": {
     "duration": 0.052855,
     "end_time": "2020-11-06T10:21:23.731252",
     "exception": false,
     "start_time": "2020-11-06T10:21:23.678397",
     "status": "completed"
    },
    "tags": []
   },
   "source": [
    "# converting the text data into TF-IDF"
   ]
  },
  {
   "cell_type": "markdown",
   "metadata": {
    "papermill": {
     "duration": 0.051426,
     "end_time": "2020-11-06T10:21:23.835696",
     "exception": false,
     "start_time": "2020-11-06T10:21:23.784270",
     "status": "completed"
    },
    "tags": []
   },
   "source": [
    "TfidfVectorizer method that carries out all the above steps in one single step."
   ]
  },
  {
   "cell_type": "code",
   "execution_count": 33,
   "metadata": {
    "execution": {
     "iopub.execute_input": "2020-11-06T10:21:23.947127Z",
     "iopub.status.busy": "2020-11-06T10:21:23.946243Z",
     "iopub.status.idle": "2020-11-06T10:21:23.951397Z",
     "shell.execute_reply": "2020-11-06T10:21:23.950800Z"
    },
    "papermill": {
     "duration": 0.063456,
     "end_time": "2020-11-06T10:21:23.951535",
     "exception": false,
     "start_time": "2020-11-06T10:21:23.888079",
     "status": "completed"
    },
    "tags": []
   },
   "outputs": [
    {
     "data": {
      "text/plain": [
       "Index(['reviews', 'setiment'], dtype='object')"
      ]
     },
     "execution_count": 33,
     "metadata": {},
     "output_type": "execute_result"
    }
   ],
   "source": [
    "new_data.columns"
   ]
  },
  {
   "cell_type": "code",
   "execution_count": 34,
   "metadata": {
    "execution": {
     "iopub.execute_input": "2020-11-06T10:21:24.072506Z",
     "iopub.status.busy": "2020-11-06T10:21:24.062116Z",
     "iopub.status.idle": "2020-11-06T10:22:09.576473Z",
     "shell.execute_reply": "2020-11-06T10:22:09.575748Z"
    },
    "papermill": {
     "duration": 45.573755,
     "end_time": "2020-11-06T10:22:09.576630",
     "exception": false,
     "start_time": "2020-11-06T10:21:24.002875",
     "status": "completed"
    },
    "tags": []
   },
   "outputs": [],
   "source": [
    "from sklearn.feature_extraction.text import TfidfVectorizer\n",
    "tfidf = TfidfVectorizer(strip_accents=None,\n",
    "                                lowercase=True,\n",
    "                                preprocessor=None, # defined preprocessor in Data Cleaning\n",
    "                                tokenizer=tokenizer_stemmer,\n",
    "                                use_idf=True,\n",
    "                                norm='l2',\n",
    "                                smooth_idf=True)\n",
    "y = new_data.setiment.values\n",
    "X = tfidf.fit_transform(new_data.reviews)"
   ]
  },
  {
   "cell_type": "markdown",
   "metadata": {
    "papermill": {
     "duration": 0.049472,
     "end_time": "2020-11-06T10:22:09.676771",
     "exception": false,
     "start_time": "2020-11-06T10:22:09.627299",
     "status": "completed"
    },
    "tags": []
   },
   "source": [
    "# Document Classification\n",
    "\n",
    "we have target vector  in y and tdidfvalues in x.lets split the data into train and text sets.then fit the training into logistic model\n",
    "\n",
    "Note that instead of manually hyperparamter tuning our model, we’re using LogisticRegressionCV to specify the number of cross-validation folds we want to do to tune the hyperparameter — that is 5-fold cross-validation"
   ]
  },
  {
   "cell_type": "code",
   "execution_count": 35,
   "metadata": {
    "execution": {
     "iopub.execute_input": "2020-11-06T10:22:09.785271Z",
     "iopub.status.busy": "2020-11-06T10:22:09.783922Z",
     "iopub.status.idle": "2020-11-06T10:22:09.790388Z",
     "shell.execute_reply": "2020-11-06T10:22:09.789755Z"
    },
    "papermill": {
     "duration": 0.063984,
     "end_time": "2020-11-06T10:22:09.790512",
     "exception": false,
     "start_time": "2020-11-06T10:22:09.726528",
     "status": "completed"
    },
    "tags": []
   },
   "outputs": [],
   "source": [
    "from sklearn.model_selection import train_test_split\n",
    "\n",
    "X_train, X_test, y_train, y_test = train_test_split(X, y, random_state=1, test_size=0.5, shuffle=True)\n"
   ]
  },
  {
   "cell_type": "code",
   "execution_count": 36,
   "metadata": {
    "execution": {
     "iopub.execute_input": "2020-11-06T10:22:09.899333Z",
     "iopub.status.busy": "2020-11-06T10:22:09.898473Z",
     "iopub.status.idle": "2020-11-06T10:22:22.754074Z",
     "shell.execute_reply": "2020-11-06T10:22:22.755021Z"
    },
    "papermill": {
     "duration": 12.914482,
     "end_time": "2020-11-06T10:22:22.755184",
     "exception": false,
     "start_time": "2020-11-06T10:22:09.840702",
     "status": "completed"
    },
    "tags": []
   },
   "outputs": [
    {
     "name": "stderr",
     "output_type": "stream",
     "text": [
      "[Parallel(n_jobs=-1)]: Using backend LokyBackend with 4 concurrent workers.\n",
      "[Parallel(n_jobs=-1)]: Done   2 out of   5 | elapsed:    9.7s remaining:   14.6s\n",
      "[Parallel(n_jobs=-1)]: Done   5 out of   5 | elapsed:   12.6s finished\n"
     ]
    }
   ],
   "source": [
    "\n",
    "from sklearn.linear_model import LogisticRegressionCV\n",
    "\n",
    "clf = LogisticRegressionCV(cv=5,\n",
    "                            scoring='accuracy',\n",
    "                            random_state=1,\n",
    "                            n_jobs=-1,\n",
    "                            verbose=3,  \n",
    "                            max_iter=300).fit(X_train, y_train)"
   ]
  },
  {
   "cell_type": "markdown",
   "metadata": {
    "papermill": {
     "duration": 0.053634,
     "end_time": "2020-11-06T10:22:22.861355",
     "exception": false,
     "start_time": "2020-11-06T10:22:22.807721",
     "status": "completed"
    },
    "tags": []
   },
   "source": [
    "# model evaluvation"
   ]
  },
  {
   "cell_type": "code",
   "execution_count": 37,
   "metadata": {
    "execution": {
     "iopub.execute_input": "2020-11-06T10:22:22.978838Z",
     "iopub.status.busy": "2020-11-06T10:22:22.977709Z",
     "iopub.status.idle": "2020-11-06T10:22:22.985353Z",
     "shell.execute_reply": "2020-11-06T10:22:22.984490Z"
    },
    "papermill": {
     "duration": 0.070101,
     "end_time": "2020-11-06T10:22:22.985523",
     "exception": false,
     "start_time": "2020-11-06T10:22:22.915422",
     "status": "completed"
    },
    "tags": []
   },
   "outputs": [
    {
     "data": {
      "text/plain": [
       "0.833"
      ]
     },
     "execution_count": 37,
     "metadata": {},
     "output_type": "execute_result"
    }
   ],
   "source": [
    "clf.score(X_test,y_test)"
   ]
  },
  {
   "cell_type": "code",
   "execution_count": null,
   "metadata": {
    "papermill": {
     "duration": 0.052145,
     "end_time": "2020-11-06T10:22:23.097770",
     "exception": false,
     "start_time": "2020-11-06T10:22:23.045625",
     "status": "completed"
    },
    "tags": []
   },
   "outputs": [],
   "source": []
  }
 ],
 "metadata": {
  "kernelspec": {
   "display_name": "Python 3",
   "language": "python",
   "name": "python3"
  },
  "language_info": {
   "codemirror_mode": {
    "name": "ipython",
    "version": 3
   },
   "file_extension": ".py",
   "mimetype": "text/x-python",
   "name": "python",
   "nbconvert_exporter": "python",
   "pygments_lexer": "ipython3",
   "version": "3.8.10"
  },
  "papermill": {
   "duration": 75.202102,
   "end_time": "2020-11-06T10:22:23.265371",
   "environment_variables": {},
   "exception": null,
   "input_path": "__notebook__.ipynb",
   "output_path": "__notebook__.ipynb",
   "parameters": {},
   "start_time": "2020-11-06T10:21:08.063269",
   "version": "2.1.0"
  }
 },
 "nbformat": 4,
 "nbformat_minor": 4
}
